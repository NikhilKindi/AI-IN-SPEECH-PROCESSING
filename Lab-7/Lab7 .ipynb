{
 "cells": [
  {
   "cell_type": "markdown",
   "id": "1379f481",
   "metadata": {},
   "source": [
    "# Kindi Krishna Nikhil - BL.EN.U4AIE21068\n",
    "# Lab-07\n",
    "\n",
    "# A1. Use HMM for classification of your speech signal using STFT features."
   ]
  },
  {
   "cell_type": "code",
   "execution_count": 3,
   "id": "e4c2be34",
   "metadata": {},
   "outputs": [
    {
     "name": "stdout",
     "output_type": "stream",
     "text": [
      "Predicted labels: [2 0 0 1 2 0 1 0 2 0 1 0 1 0 2 1 1 0 1 2 0 0 1 0 0 0 0]\n",
      "Log likelihoods of the test set: -1538.4017919027208\n"
     ]
    }
   ],
   "source": [
    "import librosa\n",
    "import numpy as np\n",
    "from hmmlearn import hmm\n",
    "from sklearn.model_selection import train_test_split\n",
    "\n",
    "def extract_features(file_path, n_mfcc=13, n_fft=2048, hop_length=512):\n",
    "    y, sr = librosa.load(file_path)\n",
    "    mfccs = librosa.feature.mfcc(y=y, sr=sr, n_mfcc=n_mfcc, n_fft=n_fft, hop_length=hop_length)\n",
    "    return mfccs.T\n",
    "\n",
    "def train_hmm(X_train, n_components=3, covariance_type='diag', n_iter=100):\n",
    "    model = hmm.GaussianHMM(n_components=n_components, covariance_type=covariance_type, n_iter=n_iter)\n",
    "    model.fit(X_train)\n",
    "    return model\n",
    "\n",
    "def test_hmm(model, X_test):\n",
    "    log_likelihoods = model.score(X_test)\n",
    "    predicted_labels = model.predict(X_test)\n",
    "    return predicted_labels, log_likelihoods\n",
    "\n",
    "if __name__ == \"__main__\":\n",
    "    speech_files = [\"nikhil.wav\"]  \n",
    "    X = []\n",
    "    for file_path in speech_files:\n",
    "        features = extract_features(file_path)\n",
    "        X.append(features)\n",
    "    \n",
    "    X = np.vstack(X)\n",
    "    \n",
    "    X_train, X_test = train_test_split(X, test_size=0.2, random_state=42)\n",
    "    \n",
    "    model = train_hmm(X_train)\n",
    "\n",
    "    predicted_labels, log_likelihoods = test_hmm(model, X_test)\n",
    "    print(\"Predicted labels:\", predicted_labels)\n",
    "    print(\"Log likelihoods of the test set:\", log_likelihoods)"
   ]
  },
  {
   "cell_type": "code",
   "execution_count": null,
   "id": "9ecd1b14",
   "metadata": {},
   "outputs": [],
   "source": []
  }
 ],
 "metadata": {
  "kernelspec": {
   "display_name": "Python 3 (ipykernel)",
   "language": "python",
   "name": "python3"
  },
  "language_info": {
   "codemirror_mode": {
    "name": "ipython",
    "version": 3
   },
   "file_extension": ".py",
   "mimetype": "text/x-python",
   "name": "python",
   "nbconvert_exporter": "python",
   "pygments_lexer": "ipython3",
   "version": "3.9.13"
  }
 },
 "nbformat": 4,
 "nbformat_minor": 5
}
